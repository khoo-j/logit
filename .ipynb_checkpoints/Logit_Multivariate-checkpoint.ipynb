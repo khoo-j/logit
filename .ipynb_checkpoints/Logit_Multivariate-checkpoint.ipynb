{
 "cells": [
  {
   "cell_type": "markdown",
   "metadata": {},
   "source": [
    "#### Matches section 3.1 in Helen Wall's course"
   ]
  },
  {
   "cell_type": "code",
   "execution_count": 16,
   "metadata": {},
   "outputs": [],
   "source": [
    "import pandas as pd\n",
    "import numpy as np\n",
    "\n",
    "import matplotlib.pyplot as plt\n",
    "import statsmodels.api as sm"
   ]
  },
  {
   "cell_type": "code",
   "execution_count": 21,
   "metadata": {},
   "outputs": [
    {
     "name": "stderr",
     "output_type": "stream",
     "text": [
      "C:\\ProgramData\\Anaconda3\\lib\\site-packages\\statsmodels\\tsa\\tsatools.py:142: FutureWarning: In a future version of pandas all arguments of concat except for the argument 'objs' will be keyword-only\n",
      "  x = pd.concat(x[::order], 1)\n"
     ]
    }
   ],
   "source": [
    "#data = pd.read_csv(\"C:\\\\Users\\\\jchkh\\\\Desktop\\\\Logit_HelenWall\\\\Data Sources\\\\binomial (training).csv\")\n",
    "data = pd.read_csv(\"C:\\\\Users\\\\jchkh\\\\Desktop\\\\HW_Logit\\\\git_h\\\\Data Sources\\\\binomial (training).csv\")\n",
    "\n",
    "y_train = data[['Win/Loss (Win 1, Loss 0)']]#.to_numpy()\n",
    "x_train = data[['Points Team Scored','Home/Away (Home 1, Away 0)','Field Goal %']]#.to_numpy()\n",
    "\n",
    "#Adds intercept term to match R's default glm behavior\n",
    "#In excel solver, akin to unchecking \"Make unconstrained variables non-negative\"\n",
    "#Source: https://stackoverflow.com/questions/64229454/different-glm-result-for-python-and-r-with-binomial-regression\n",
    "\n",
    "x_train = sm.add_constant(x_train)"
   ]
  },
  {
   "cell_type": "code",
   "execution_count": 23,
   "metadata": {},
   "outputs": [],
   "source": [
    "lm = sm.GLM(y_train, x_train, family=sm.families.Binomial()).fit()"
   ]
  },
  {
   "cell_type": "code",
   "execution_count": 24,
   "metadata": {},
   "outputs": [
    {
     "name": "stdout",
     "output_type": "stream",
     "text": [
      "                    Generalized Linear Model Regression Results                     \n",
      "====================================================================================\n",
      "Dep. Variable:     Win/Loss (Win 1, Loss 0)   No. Observations:                  267\n",
      "Model:                                  GLM   Df Residuals:                      263\n",
      "Model Family:                      Binomial   Df Model:                            3\n",
      "Link Function:                        logit   Scale:                          1.0000\n",
      "Method:                                IRLS   Log-Likelihood:                -142.82\n",
      "Date:                      Tue, 31 May 2022   Deviance:                       285.64\n",
      "Time:                              12:59:46   Pearson chi2:                     249.\n",
      "No. Iterations:                           5                                         \n",
      "Covariance Type:                  nonrobust                                         \n",
      "==============================================================================================\n",
      "                                 coef    std err          z      P>|z|      [0.025      0.975]\n",
      "----------------------------------------------------------------------------------------------\n",
      "const                         -4.4353      1.120     -3.961      0.000      -6.630      -2.241\n",
      "Points Team Scored             0.1104      0.017      6.556      0.000       0.077       0.143\n",
      "Home/Away (Home 1, Away 0)     0.5558      0.304      1.826      0.068      -0.041       1.152\n",
      "Field Goal %                  -0.0853      0.021     -3.991      0.000      -0.127      -0.043\n",
      "==============================================================================================\n"
     ]
    }
   ],
   "source": [
    "print(lm.summary())"
   ]
  },
  {
   "cell_type": "code",
   "execution_count": 25,
   "metadata": {},
   "outputs": [],
   "source": [
    "data['predicted'] = lm.predict(x_train)"
   ]
  },
  {
   "cell_type": "code",
   "execution_count": 26,
   "metadata": {
    "tags": []
   },
   "outputs": [],
   "source": [
    "data['predicted_win'] = np.nan\n",
    "\n",
    "data.loc[data['predicted'] >= 0.5, 'predicted_win'] = 1\n",
    "data.loc[data['predicted'] < 0.5, 'predicted_win']  = 0"
   ]
  },
  {
   "cell_type": "markdown",
   "metadata": {},
   "source": [
    "# Plotting"
   ]
  },
  {
   "cell_type": "code",
   "execution_count": 27,
   "metadata": {},
   "outputs": [
    {
     "data": {
      "image/png": "[encoded data removed]",
      "text/plain": [
       "<Figure size 432x288 with 1 Axes>"
      ]
     },
     "metadata": {
      "needs_background": "light"
     },
     "output_type": "display_data"
    }
   ],
   "source": [
    "plt.scatter(data['Points Team Scored'], data['Win/Loss (Win 1, Loss 0)'], c =\"pink\",\n",
    "            linewidths = 2,\n",
    "            marker =\"s\",\n",
    "            edgecolor =\"green\",\n",
    "            s = 20)\n",
    " \n",
    "plt.scatter(data['Points Team Scored'], data['predicted'], c =\"yellow\",\n",
    "            linewidths = 2,\n",
    "            marker =\"o\",\n",
    "            edgecolor =\"red\",\n",
    "            s = 5)\n",
    "\n",
    "plt.xlabel(\"Points Scored\")\n",
    "plt.ylabel(\"Win or Lose\")\n",
    "plt.title(\"Actuals vs Predicted\")\n",
    "plt.show()"
   ]
  }
 ],
 "metadata": {
  "kernelspec": {
   "display_name": "Python 3 (ipykernel)",
   "language": "python",
   "name": "python3"
  },
  "language_info": {
   "codemirror_mode": {
    "name": "ipython",
    "version": 3
   },
   "file_extension": ".py",
   "mimetype": "text/x-python",
   "name": "python",
   "nbconvert_exporter": "python",
   "pygments_lexer": "ipython3",
   "version": "3.9.7"
  }
 },
 "nbformat": 4,
 "nbformat_minor": 4
}
