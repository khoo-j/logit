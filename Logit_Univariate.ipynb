{
 "cells": [
  {
   "cell_type": "code",
   "execution_count": 21,
   "metadata": {},
   "outputs": [],
   "source": [
    "import pandas as pd\n",
    "import numpy as np\n",
    "\n",
    "import matplotlib.pyplot as plt\n",
    "import statsmodels.api as sm"
   ]
  },
  {
   "cell_type": "code",
   "execution_count": 15,
   "metadata": {},
   "outputs": [],
   "source": [
    "data = pd.read_csv(\"C:\\\\Users\\\\jchkh\\\\Desktop\\\\Logit_HelenWall\\\\Data Sources\\\\binomial (training).csv\")\n",
    "\n",
    "y_train = data[['Win/Loss (Win 1, Loss 0)']].to_numpy()\n",
    "x_train = data[['Points Team Scored']].to_numpy()\n",
    "\n",
    "#Adds intercept term to match R's default glm behavior\n",
    "#In excel solver, akin to unchecking \"Make unconstrained variables non-negative\"\n",
    "#Source: https://stackoverflow.com/questions/64229454/different-glm-result-for-python-and-r-with-binomial-regression\n",
    "\n",
    "x_train = sm.tools.tools.add_constant(x_train)"
   ]
  },
  {
   "cell_type": "code",
   "execution_count": 16,
   "metadata": {},
   "outputs": [],
   "source": [
    "lm = sm.GLM(y_train, x_train, family=sm.families.Binomial()).fit()"
   ]
  },
  {
   "cell_type": "code",
   "execution_count": 17,
   "metadata": {},
   "outputs": [
    {
     "name": "stdout",
     "output_type": "stream",
     "text": [
      "                 Generalized Linear Model Regression Results                  \n",
      "==============================================================================\n",
      "Dep. Variable:                      y   No. Observations:                  267\n",
      "Model:                            GLM   Df Residuals:                      265\n",
      "Model Family:                Binomial   Df Model:                            1\n",
      "Link Function:                  logit   Scale:                          1.0000\n",
      "Method:                          IRLS   Log-Likelihood:                -154.63\n",
      "Date:                Mon, 30 May 2022   Deviance:                       309.26\n",
      "Time:                        23:09:08   Pearson chi2:                     257.\n",
      "No. Iterations:                     4                                         \n",
      "Covariance Type:            nonrobust                                         \n",
      "==============================================================================\n",
      "                 coef    std err          z      P>|z|      [0.025      0.975]\n",
      "------------------------------------------------------------------------------\n",
      "const         -6.1969      1.021     -6.068      0.000      -8.199      -4.195\n",
      "x1             0.0889      0.014      6.348      0.000       0.061       0.116\n",
      "==============================================================================\n"
     ]
    }
   ],
   "source": [
    "print(lm.summary())"
   ]
  },
  {
   "cell_type": "code",
   "execution_count": 18,
   "metadata": {},
   "outputs": [],
   "source": [
    "data['predicted'] = lm.predict(x_train)"
   ]
  },
  {
   "cell_type": "code",
   "execution_count": 19,
   "metadata": {
    "tags": []
   },
   "outputs": [],
   "source": [
    "data['predicted_win'] = np.nan\n",
    "\n",
    "data.loc[data['predicted'] >= 0.5, 'predicted_win'] = 1\n",
    "data.loc[data['predicted'] < 0.5, 'predicted_win']  = 0"
   ]
  },
  {
   "cell_type": "markdown",
   "metadata": {},
   "source": [
    "# Plotting"
   ]
  },
  {
   "cell_type": "code",
   "execution_count": 27,
   "metadata": {},
   "outputs": [
    {
     "data": {
      "image/png": "[encoded data removed]",
      "text/plain": [
       "<Figure size 432x288 with 1 Axes>"
      ]
     },
     "metadata": {
      "needs_background": "light"
     },
     "output_type": "display_data"
    }
   ],
   "source": [
    "plt.scatter(data['Points Team Scored'], data['Win/Loss (Win 1, Loss 0)'], c =\"pink\",\n",
    "            linewidths = 2,\n",
    "            marker =\"s\",\n",
    "            edgecolor =\"green\",\n",
    "            s = 20)\n",
    " \n",
    "plt.scatter(data['Points Team Scored'], data['predicted'], c =\"yellow\",\n",
    "            linewidths = 2,\n",
    "            marker =\"o\",\n",
    "            edgecolor =\"red\",\n",
    "            s = 5)\n",
    "\n",
    "plt.xlabel(\"Points Scored\")\n",
    "plt.ylabel(\"Win or Lose\")\n",
    "plt.title(\"Actuals vs Predicted\")\n",
    "plt.show()"
   ]
  },
  {
   "cell_type": "code",
   "execution_count": null,
   "metadata": {},
   "outputs": [],
   "source": []
  }
 ],
 "metadata": {
  "kernelspec": {
   "display_name": "Python 3 (ipykernel)",
   "language": "python",
   "name": "python3"
  },
  "language_info": {
   "codemirror_mode": {
    "name": "ipython",
    "version": 3
   },
   "file_extension": ".py",
   "mimetype": "text/x-python",
   "name": "python",
   "nbconvert_exporter": "python",
   "pygments_lexer": "ipython3",
   "version": "3.8.12"
  }
 },
 "nbformat": 4,
 "nbformat_minor": 4
}
